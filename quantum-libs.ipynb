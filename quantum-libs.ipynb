{
 "cells": [
  {
   "cell_type": "markdown",
   "id": "4f5d75aa",
   "metadata": {},
   "source": [
    "# QuanDocker: A docker container for quantum machine learning (QML) research.\n",
    "\n",
    "https://github.com/BoltzmannEntropy/QMLDocker "
   ]
  },
  {
   "cell_type": "code",
   "execution_count": 1,
   "id": "3e3dbcab",
   "metadata": {},
   "outputs": [],
   "source": [
    "%reset -f\n",
    "import matplotlib.font_manager\n",
    "import numpy as np\n",
    "from matplotlib import pyplot as plt\n",
    "font = {\n",
    "    'family':'SimHei',\n",
    "    'weight':'bold',\n",
    "    'size':'16'\n",
    "}\n",
    "matplotlib.rc(\"font\",**font)\n",
    "from IPython.display import display_pretty\n",
    "import warnings\n",
    "warnings.filterwarnings(\"ignore\")"
   ]
  },
  {
   "cell_type": "markdown",
   "id": "889e7e73",
   "metadata": {},
   "source": [
    "## Qutip"
   ]
  },
  {
   "cell_type": "code",
   "execution_count": 2,
   "id": "17aa251e",
   "metadata": {},
   "outputs": [
    {
     "data": {
      "text/plain": [
       "array([[0.37796447-0.37796447j, 0.37796447+0.75592895j]])"
      ]
     },
     "execution_count": 2,
     "metadata": {},
     "output_type": "execute_result"
    }
   ],
   "source": [
    "from qutip import *\n",
    "\n",
    "q = (1/np.sqrt(7))*Qobj(np.array([[1+ 1j], [1-2j]]).T)\n",
    "q.conj().full()"
   ]
  },
  {
   "cell_type": "code",
   "execution_count": 3,
   "id": "d6162153",
   "metadata": {},
   "outputs": [
    {
     "data": {
      "text/plain": [
       "array([[0.        -0.70710678j],\n",
       "       [0.70710678+0.j        ]])"
      ]
     },
     "execution_count": 3,
     "metadata": {},
     "output_type": "execute_result"
    }
   ],
   "source": [
    "p=(1/np.sqrt(2))*Qobj(np.array([[-1j], [1]]))\n",
    "p.full()"
   ]
  },
  {
   "cell_type": "code",
   "execution_count": 4,
   "id": "f3ab1777",
   "metadata": {},
   "outputs": [
    {
     "data": {
      "text/latex": [
       "Quantum object: dims = [[1], [1]], shape = (1, 1), type = bra $ \\\\ \\left(\\begin{matrix}0.267j\\\\\\end{matrix}\\right)$"
      ],
      "text/plain": [
       "Quantum object: dims = [[1], [1]], shape = (1, 1), type = bra\n",
       "Qobj data =\n",
       "[[0.+0.26726124j]]"
      ]
     },
     "execution_count": 4,
     "metadata": {},
     "output_type": "execute_result"
    }
   ],
   "source": [
    "q.conj()*p"
   ]
  },
  {
   "cell_type": "markdown",
   "id": "bba55023",
   "metadata": {},
   "source": [
    "## SymPy Quantum"
   ]
  },
  {
   "cell_type": "code",
   "execution_count": 5,
   "id": "7b4f6e11",
   "metadata": {},
   "outputs": [
    {
     "name": "stderr",
     "output_type": "stream",
     "text": [
      "WARNING:matplotlib.font_manager:findfont: Font family ['SimHei'] not found. Falling back to DejaVu Sans.\n"
     ]
    },
    {
     "data": {
      "text/latex": [
       "$\\displaystyle \\left[\\begin{matrix}\\frac{1}{2}\\\\- \\frac{1}{2}\\\\- \\frac{1}{2}\\\\\\frac{1}{2}\\end{matrix}\\right]$"
      ],
      "text/plain": [
       "⎡1/2 ⎤\n",
       "⎢    ⎥\n",
       "⎢-1/2⎥\n",
       "⎢    ⎥\n",
       "⎢-1/2⎥\n",
       "⎢    ⎥\n",
       "⎣1/2 ⎦"
      ]
     },
     "execution_count": 5,
     "metadata": {},
     "output_type": "execute_result"
    }
   ],
   "source": [
    "from sympy import Matrix, symbols, sqrt, init_printing\n",
    "from sympy.physics.quantum import TensorProduct\n",
    "from IPython.display import display_pretty\n",
    "\n",
    "init_printing(use_latex=True)\n",
    "a1 = symbols('a_1')\n",
    "b1 = symbols('b_1')\n",
    "a2 = symbols('a_2')\n",
    "b2 = symbols('b_2')\n",
    "# psi1 = Matrix(2,1,[a1,b1])\n",
    "# psi2 = Matrix(2,1,[a2,b2])\n",
    "\n",
    "U_I = Matrix([[1,0],\n",
    "              [0,1]])\n",
    "U_H = 1/sqrt(2)*Matrix([[1, 1],\n",
    "                        [1,-1]])\n",
    "U_Z=Matrix(2,2,[1,0,0,-1])\n",
    "Cnot=Matrix([[1,0,0,0],\n",
    "             [0,1,0,0],\n",
    "             [0,0,0,1],\n",
    "             [0,0,1,0]])\n",
    "\n",
    "psi1 = Matrix(2,1,[1,0])\n",
    "psi2 = Matrix(2,1,[1,0])\n",
    "\n",
    "psi12 = TensorProduct(psi1,psi2)\n",
    "U_FINAL= Cnot*(TensorProduct(U_I,U_Z)*TensorProduct(U_H,U_H))*psi12\n",
    "\n",
    "U_FINAL"
   ]
  },
  {
   "cell_type": "code",
   "execution_count": 6,
   "id": "78f5ca6e",
   "metadata": {},
   "outputs": [
    {
     "data": {
      "text/latex": [
       "$\\displaystyle \\left[\\begin{matrix}- \\frac{\\sqrt{2}}{2}\\\\0\\\\0\\\\0\\\\- \\frac{\\sqrt{2}}{2}\\\\0\\\\0\\\\0\\end{matrix}\\right]$"
      ],
      "text/plain": [
       "⎡-√2 ⎤\n",
       "⎢────⎥\n",
       "⎢ 2  ⎥\n",
       "⎢    ⎥\n",
       "⎢ 0  ⎥\n",
       "⎢    ⎥\n",
       "⎢ 0  ⎥\n",
       "⎢    ⎥\n",
       "⎢ 0  ⎥\n",
       "⎢    ⎥\n",
       "⎢-√2 ⎥\n",
       "⎢────⎥\n",
       "⎢ 2  ⎥\n",
       "⎢    ⎥\n",
       "⎢ 0  ⎥\n",
       "⎢    ⎥\n",
       "⎢ 0  ⎥\n",
       "⎢    ⎥\n",
       "⎣ 0  ⎦"
      ]
     },
     "execution_count": 6,
     "metadata": {},
     "output_type": "execute_result"
    }
   ],
   "source": [
    "from sympy import Matrix, symbols, sqrt, init_printing\n",
    "from sympy.physics.quantum import TensorProduct\n",
    "from IPython.display import display_pretty\n",
    "\n",
    "init_printing(use_latex=True)\n",
    "a1 = symbols('a_1')\n",
    "b1 = symbols('b_1')\n",
    "a2 = symbols('a_2')\n",
    "b2 = symbols('b_2')\n",
    "\n",
    "U_I = Matrix([[1,0],\n",
    "              [0,1]])\n",
    "U_H = 1/sqrt(2)*Matrix([[1, 1],\n",
    "                        [1,-1]])\n",
    "U_Z=Matrix(2,2,[1,0,0,-1])\n",
    "U_X=Matrix(2,2,[0,1,1,0])\n",
    "Cnot=Matrix([[1,0,0,0],\n",
    "             [0,1,0,0],\n",
    "             [0,0,0,1],\n",
    "             [0,0,1,0]])\n",
    "\n",
    "psi0 = Matrix(2,1,[1,0])\n",
    "psi1 = Matrix(2,1,[0,1])\n",
    "psi3 = a1*psi0 + b1*psi1\n",
    "\n",
    "psi3\n",
    "# psi1 = Matrix(2,1,[a1,b1])\n",
    "# psi2 = Matrix(2,1,[a2,b2])\n",
    "# psi12 = TensorProduct(psi1,psi2)\n",
    "# # psi12 = psi1+ psi2\n",
    "U_FINAL= TensorProduct(Cnot,U_I)*(TensorProduct(U_X,U_I,U_Z)*TensorProduct(Cnot,U_I))* TensorProduct(U_H,U_Z,U_I)\n",
    "U_FINAL * TensorProduct(psi0, psi1, psi0)"
   ]
  },
  {
   "cell_type": "code",
   "execution_count": 7,
   "id": "0755fafc",
   "metadata": {},
   "outputs": [
    {
     "name": "stderr",
     "output_type": "stream",
     "text": [
      "WARNING:matplotlib.font_manager:findfont: Font family 'SimHei' not found.\n"
     ]
    },
    {
     "data": {
      "image/png": "[encoded data removed]",
      "text/latex": [
       "$\\displaystyle X_{0} {\\left|0\\right\\rangle } = {\\left|1\\right\\rangle }$"
      ],
      "text/plain": [
       "X ⋅❘0⟩ = ❘1⟩\n",
       " 0          "
      ]
     },
     "metadata": {},
     "output_type": "display_data"
    },
    {
     "name": "stderr",
     "output_type": "stream",
     "text": [
      "WARNING:matplotlib.font_manager:findfont: Font family 'SimHei' not found.\n"
     ]
    },
    {
     "data": {
      "image/png": "[encoded data removed]",
      "text/latex": [
       "$\\displaystyle X_{0} {\\left|1\\right\\rangle } = {\\left|0\\right\\rangle }$"
      ],
      "text/plain": [
       "X ⋅❘1⟩ = ❘0⟩\n",
       " 0          "
      ]
     },
     "metadata": {},
     "output_type": "display_data"
    },
    {
     "name": "stderr",
     "output_type": "stream",
     "text": [
      "WARNING:matplotlib.font_manager:findfont: Font family 'SimHei' not found.\n"
     ]
    },
    {
     "data": {
      "image/png": "[encoded data removed]",
      "text/latex": [
       "$\\displaystyle Y_{0} {\\left|0\\right\\rangle } = i {\\left|1\\right\\rangle }$"
      ],
      "text/plain": [
       "Y ⋅❘0⟩ = ⅈ⋅❘1⟩\n",
       " 0            "
      ]
     },
     "metadata": {},
     "output_type": "display_data"
    },
    {
     "name": "stderr",
     "output_type": "stream",
     "text": [
      "WARNING:matplotlib.font_manager:findfont: Font family 'SimHei' not found.\n"
     ]
    },
    {
     "data": {
      "image/png": "[encoded data removed]",
      "text/latex": [
       "$\\displaystyle Y_{0} {\\left|1\\right\\rangle } = - i {\\left|0\\right\\rangle }$"
      ],
      "text/plain": [
       "Y ⋅❘1⟩ = -ⅈ⋅❘0⟩\n",
       " 0             "
      ]
     },
     "metadata": {},
     "output_type": "display_data"
    },
    {
     "name": "stderr",
     "output_type": "stream",
     "text": [
      "WARNING:matplotlib.font_manager:findfont: Font family 'SimHei' not found.\n"
     ]
    },
    {
     "data": {
      "image/png": "[encoded data removed]",
      "text/latex": [
       "$\\displaystyle Z_{0} {\\left|0\\right\\rangle } = {\\left|0\\right\\rangle }$"
      ],
      "text/plain": [
       "Z ⋅❘0⟩ = ❘0⟩\n",
       " 0          "
      ]
     },
     "metadata": {},
     "output_type": "display_data"
    },
    {
     "name": "stderr",
     "output_type": "stream",
     "text": [
      "WARNING:matplotlib.font_manager:findfont: Font family 'SimHei' not found.\n"
     ]
    },
    {
     "data": {
      "image/png": "[encoded data removed]",
      "text/latex": [
       "$\\displaystyle Z_{0} {\\left|1\\right\\rangle } = - {\\left|1\\right\\rangle }$"
      ],
      "text/plain": [
       "Z ⋅❘1⟩ = -❘1⟩\n",
       " 0           "
      ]
     },
     "metadata": {},
     "output_type": "display_data"
    }
   ],
   "source": [
    "from sympy import sqrt, symbols, Rational\n",
    "from sympy import expand, Eq, Symbol, simplify, exp, sin, srepr\n",
    "from sympy.physics.quantum import *\n",
    "from sympy.physics.quantum.qubit import *\n",
    "from sympy.physics.quantum.gate import *\n",
    "from sympy.physics.quantum.grover import *\n",
    "from sympy.physics.quantum.qft import QFT, IQFT, Fourier\n",
    "from sympy.physics.quantum.circuitplot import circuit_plot\n",
    "\n",
    "for gate in [X,Y,Z]:\n",
    "    for state in [Qubit('0'),Qubit('1')]:\n",
    "        lhs = gate(0)*state\n",
    "        rhs = qapply(lhs)\n",
    "        display(Eq(lhs,rhs))"
   ]
  },
  {
   "cell_type": "code",
   "execution_count": 8,
   "id": "f65a9ba7",
   "metadata": {},
   "outputs": [],
   "source": [
    "%matplotlib inline\n",
    "import numpy as np\n",
    "from warnings import filterwarnings\n",
    "filterwarnings(action='ignore', category=DeprecationWarning)\n",
    "\n",
    "\n",
    "phi_plus = np.array([1, 0, 0, 1])/np.sqrt(2)   # | Phi^+ >\n",
    "phi_minus = np.array([1, 0, 0, -1])/np.sqrt(2) # | Phi^- >\n",
    "psi_plus = np.array([0, 1, 1, 0])/np.sqrt(2)   # | Psi^+ >\n",
    "psi_minus = np.array([0, 1, -1, 0])/np.sqrt(2) # | Psi^- >\n"
   ]
  },
  {
   "cell_type": "code",
   "execution_count": 9,
   "id": "243748ab",
   "metadata": {},
   "outputs": [
    {
     "name": "stdout",
     "output_type": "stream",
     "text": [
      "after X matrix, the state is  tensor([[0, 1]])\n"
     ]
    }
   ],
   "source": [
    "import torch\n",
    "initial_state = [1,0]   # Define initial_state as |0>\n",
    "# initial_state = [0,1]   # Define initial_state as |0>\n",
    "# initial_state = [1/np.sqrt(2), 1/np.sqrt(2)]  # Define state |q_0>\n",
    "\n",
    "initial_state_torch = torch.tensor([initial_state])\n",
    "x_gate_matrix = torch.tensor([[0,1],[1,0]])\n",
    "out_state_torch = torch.mm(x_gate_matrix,initial_state_torch.t()) \n",
    "print(\"after X matrix, the state is \",out_state_torch.t()) # Display the output state vector"
   ]
  },
  {
   "cell_type": "markdown",
   "id": "4a1a6679",
   "metadata": {},
   "source": [
    "## Paddle-quantum"
   ]
  },
  {
   "cell_type": "code",
   "execution_count": 10,
   "id": "2553045c",
   "metadata": {},
   "outputs": [],
   "source": [
    "import numpy\n",
    "from numpy import pi as PI\n",
    "import paddle \n",
    "import paddle_quantum\n",
    "from paddle import matmul\n",
    "from paddle_quantum.ansatz import Circuit\n",
    "from paddle_quantum.qinfo import random_pauli_str_generator, pauli_str_to_matrix\n",
    "from paddle_quantum.linalg import dagger"
   ]
  },
  {
   "cell_type": "code",
   "execution_count": 11,
   "id": "47da7fe7",
   "metadata": {},
   "outputs": [
    {
     "name": "stdout",
     "output_type": "stream",
     "text": [
      "Random Hamiltonian in Pauli string format = \n",
      " [[-0.003151539177421281, 'x0']]\n"
     ]
    }
   ],
   "source": [
    "N = 1  # Number of qubits\n",
    "SEED = np.random.randint(9999)  # Fixed random seed\n",
    "# Generate random Hamiltonian represented by Pauli string\n",
    "numpy.random.seed(SEED)\n",
    "hamiltonian = random_pauli_str_generator(N, terms=1)\n",
    "print(\"Random Hamiltonian in Pauli string format = \\n\", hamiltonian)"
   ]
  },
  {
   "cell_type": "code",
   "execution_count": 12,
   "id": "1d77cbc7",
   "metadata": {},
   "outputs": [
    {
     "name": "stderr",
     "output_type": "stream",
     "text": [
      "/home/qmuser/.local/lib/python3.8/site-packages/paddle/fluid/framework.py:1104: DeprecationWarning: `np.bool` is a deprecated alias for the builtin `bool`. To silence this warning, use `bool` by itself. Doing this will not modify any behavior and is safe. If you specifically wanted the numpy scalar type, use `np.bool_` here.\n",
      "Deprecated in NumPy 1.20; for more details and guidance: https://numpy.org/devdocs/release/1.20.0-notes.html#deprecations\n",
      "  elif dtype == np.bool:\n"
     ]
    },
    {
     "data": {
      "text/plain": [
       "Tensor(shape=[2, 2], dtype=complex64, place=Place(cpu), stop_gradient=True,\n",
       "       [[ 0j                       , (-0.003151539247483015+0j)],\n",
       "        [(-0.003151539247483015+0j),  0j                       ]])"
      ]
     },
     "execution_count": 12,
     "metadata": {},
     "output_type": "execute_result"
    }
   ],
   "source": [
    "# Generate matrix representation of Hamiltonian\n",
    "complex_dtype = paddle_quantum.get_dtype()\n",
    "H = pauli_str_to_matrix(hamiltonian, N).astype(complex_dtype)\n",
    "H"
   ]
  },
  {
   "cell_type": "code",
   "execution_count": null,
   "id": "de475d8a",
   "metadata": {},
   "outputs": [],
   "source": []
  }
 ],
 "metadata": {
  "kernelspec": {
   "display_name": "Python 3 (ipykernel)",
   "language": "python",
   "name": "python3"
  },
  "language_info": {
   "codemirror_mode": {
    "name": "ipython",
    "version": 3
   },
   "file_extension": ".py",
   "mimetype": "text/x-python",
   "name": "python",
   "nbconvert_exporter": "python",
   "pygments_lexer": "ipython3",
   "version": "3.8.10"
  },
  "vscode": {
   "interpreter": {
    "hash": "cfb95e306e54414920e7b03cc6a4a13cfdaf8deca4c5ce9033ffd37a4d86fa36"
   }
  }
 },
 "nbformat": 4,
 "nbformat_minor": 5
}
